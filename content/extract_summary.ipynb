{
 "cells": [
  {
   "cell_type": "code",
   "execution_count": 1,
   "id": "bcc61555-f972-41c0-971f-18ea18635d69",
   "metadata": {},
   "outputs": [],
   "source": [
    "import pandas as pd"
   ]
  },
  {
   "cell_type": "code",
   "execution_count": 2,
   "id": "1383f5cc-87c5-4ef8-abd3-10205a264641",
   "metadata": {},
   "outputs": [],
   "source": [
    "cleaned_df = pd.read_csv(\"cleaned_news.csv\")"
   ]
  },
  {
   "cell_type": "code",
   "execution_count": 5,
   "id": "32f44021-4b12-466c-86e4-fa519ebe467c",
   "metadata": {},
   "outputs": [
    {
     "data": {
      "text/plain": [
       "(5923, 3)"
      ]
     },
     "execution_count": 5,
     "metadata": {},
     "output_type": "execute_result"
    }
   ],
   "source": [
    "cleaned_df.shape"
   ]
  },
  {
   "cell_type": "code",
   "execution_count": 6,
   "id": "904a978b-5b50-4041-850e-8aabaa9e487a",
   "metadata": {},
   "outputs": [],
   "source": [
    "def analyze_dataframe(df):\n",
    "    total_records = len(df)\n",
    "    duplicates_count = df.duplicated().sum()\n",
    "    null_storytext_count = df['storytext'].isnull().sum()\n",
    "    cleaned_df = df.drop_duplicates().dropna(subset=['storytext'])\n",
    "    remaining_records = len(cleaned_df)\n",
    "\n",
    "    # Summary table\n",
    "    summary_table = pd.DataFrame({\n",
    "        'Total Records': [total_records],\n",
    "        'Duplicates': [duplicates_count],\n",
    "        'Null \"storytext\"': [null_storytext_count],\n",
    "        'Remaining Records': [remaining_records]\n",
    "    })\n",
    "\n",
    "    return cleaned_df"
   ]
  },
  {
   "cell_type": "code",
   "execution_count": 7,
   "id": "dd104440-b1e7-4713-bded-4da12a705ca4",
   "metadata": {},
   "outputs": [],
   "source": [
    "cleaned_df = analyze_dataframe(cleaned_df)"
   ]
  },
  {
   "cell_type": "code",
   "execution_count": 8,
   "id": "65c42d8d-991b-431e-b8cd-2f294305ca6a",
   "metadata": {},
   "outputs": [
    {
     "data": {
      "text/plain": [
       "(3209, 3)"
      ]
     },
     "execution_count": 8,
     "metadata": {},
     "output_type": "execute_result"
    }
   ],
   "source": [
    "cleaned_df.shape"
   ]
  },
  {
   "cell_type": "code",
   "execution_count": 9,
   "id": "af7f7a2b-fbff-4003-b5e2-f129dedd9e97",
   "metadata": {},
   "outputs": [],
   "source": [
    "filtered_df = cleaned_df[cleaned_df['cleantext'].str.len() <= 2500]"
   ]
  },
  {
   "cell_type": "code",
   "execution_count": 10,
   "id": "72e488bb-b5ff-486c-8fd3-6bba5e236213",
   "metadata": {},
   "outputs": [
    {
     "name": "stderr",
     "output_type": "stream",
     "text": [
      "C:\\Users\\gnammi\\AppData\\Local\\Temp\\ipykernel_28968\\2625654042.py:2: SettingWithCopyWarning: \n",
      "A value is trying to be set on a copy of a slice from a DataFrame.\n",
      "Try using .loc[row_indexer,col_indexer] = value instead\n",
      "\n",
      "See the caveats in the documentation: https://pandas.pydata.org/pandas-docs/stable/user_guide/indexing.html#returning-a-view-versus-a-copy\n",
      "  filtered_df['cleantext'] = filtered_df['cleantext'].apply(lambda x: re.sub(r'[^\\w\\s]', '', x))\n"
     ]
    }
   ],
   "source": [
    "import re\n",
    "filtered_df['cleantext'] = filtered_df['cleantext'].apply(lambda x: re.sub(r'[^\\w\\s]', '', x))"
   ]
  },
  {
   "cell_type": "code",
   "execution_count": 29,
   "id": "477c8697-e246-4f5a-b94f-62243f01cf58",
   "metadata": {},
   "outputs": [],
   "source": [
    "import httpx"
   ]
  },
  {
   "cell_type": "code",
   "execution_count": 35,
   "id": "a842c4c6-3df8-41f6-8f07-c04163240c75",
   "metadata": {},
   "outputs": [],
   "source": [
    "# def extract_summary(df, text_column_name,output_file):\n",
    "#     summary_results = []\n",
    "#     for index, row in df.iterrows():\n",
    "#         text = row[text_column_name]\n",
    "#         if len(text) <= 2500:\n",
    "#             url = f\"http://10.220.0.85:30066/summary/periscope?story={text}\"\n",
    "#             response = httpx.post(url)\n",
    "#             if response.status_code == 200:\n",
    "#                 summary_json = response.json()\n",
    "#                 summary_results.append(summary_json)\n",
    "#             else:\n",
    "#                 print(f\"Error: Request for '{text}' failed with status code {response.status_code}\")\n",
    "    \n",
    "   \n",
    "#     with open(output_file, 'w') as f:\n",
    "#         json.dump(summary_results, f)\n",
    "\n",
    "#     print(f\"summary results saved to '{output_file}'\")"
   ]
  },
  {
   "cell_type": "code",
   "execution_count": 49,
   "id": "2bf642c9-b06f-419c-8c28-f50837176f10",
   "metadata": {},
   "outputs": [],
   "source": [
    "filtered_df = filtered_df[:100]"
   ]
  },
  {
   "cell_type": "code",
   "execution_count": 50,
   "id": "20bfcccb-bfda-465d-8c6a-765dd9e89bb6",
   "metadata": {},
   "outputs": [
    {
     "data": {
      "text/plain": [
       "(100, 3)"
      ]
     },
     "execution_count": 50,
     "metadata": {},
     "output_type": "execute_result"
    }
   ],
   "source": [
    "filtered_df.shape"
   ]
  },
  {
   "cell_type": "code",
   "execution_count": 51,
   "id": "541ae37b-cece-4fe6-9a8a-3b82b6710d3b",
   "metadata": {},
   "outputs": [],
   "source": [
    "import httpx\n",
    "\n",
    "def extract_summary(df, text_column_name, output_file):\n",
    "    summary_results = []\n",
    "    timeout = 10 \n",
    "\n",
    "    for index, row in df.iterrows():\n",
    "        text = row[text_column_name]\n",
    "        if len(text) <= 2500:\n",
    "            url = f\"http://10.220.0.85:30066/summary/periscope?story={text}\"\n",
    "            try:\n",
    "                response = httpx.post(url, timeout=timeout)\n",
    "                if response.status_code == 200:\n",
    "                    summary_json = response.json()\n",
    "                    summary_results.append(summary_json)\n",
    "                else:\n",
    "                    print(f\"Error: Request for '{text}' failed with status code {response.status_code}\")\n",
    "            except httpx.ReadTimeout:\n",
    "                print(f\"Error: Request for '{text}' timed out after {timeout} seconds\")\n",
    "            except Exception as e:\n",
    "                print(f\"Error: An exception occurred while processing '{text}': {e}\")\n",
    "\n",
    "    with open(output_file, 'w') as f:\n",
    "        json.dump(summary_results, f)\n",
    "\n",
    "    print(f\"Summary results saved to '{output_file}'\")"
   ]
  },
  {
   "cell_type": "code",
   "execution_count": null,
   "id": "3e55d391-47bf-4dc8-96bc-2fc61e3bc1da",
   "metadata": {
    "scrolled": true
   },
   "outputs": [],
   "source": [
    "extract_summary(filtered_df, 'cleantext', 'summary_extraction.json')"
   ]
  },
  {
   "cell_type": "code",
   "execution_count": null,
   "id": "3c01e1bf-4afc-471e-b0ce-a3aff2440862",
   "metadata": {},
   "outputs": [],
   "source": []
  }
 ],
 "metadata": {
  "kernelspec": {
   "display_name": "myenv",
   "language": "python",
   "name": "myenv"
  },
  "language_info": {
   "codemirror_mode": {
    "name": "ipython",
    "version": 3
   },
   "file_extension": ".py",
   "mimetype": "text/x-python",
   "name": "python",
   "nbconvert_exporter": "python",
   "pygments_lexer": "ipython3",
   "version": "3.9.7"
  }
 },
 "nbformat": 4,
 "nbformat_minor": 5
}
